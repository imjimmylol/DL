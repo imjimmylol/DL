{
 "cells": [
  {
   "cell_type": "code",
   "execution_count": 1,
   "id": "2796ca32",
   "metadata": {},
   "outputs": [
    {
     "name": "stdout",
     "output_type": "stream",
     "text": [
      "Found 24 labels. Saved label_map.json.\n"
     ]
    }
   ],
   "source": [
    "import json\n",
    "\n",
    "# 1. Load your annotation file(s)\n",
    "with open(\"./file/train.json\", \"r\") as f:\n",
    "    data = json.load(f)\n",
    "\n",
    "# 2. Collect all unique labels\n",
    "all_labels = set()\n",
    "for labels in data.values():\n",
    "    all_labels.update(labels)\n",
    "\n",
    "# 3. Sort them (optional, but makes your map deterministic/readable)\n",
    "sorted_labels = sorted(all_labels)\n",
    "\n",
    "# 4. Build a mapping from label → integer index\n",
    "label_map = { label: idx for idx, label in enumerate(sorted_labels) }\n",
    "\n",
    "# 5. Write out to JSON\n",
    "with open(\"label_map.json\", \"w\") as f:\n",
    "    json.dump(label_map, f, indent=2, ensure_ascii=False)\n",
    "\n",
    "print(f\"Found {len(label_map)} labels. Saved label_map.json.\")"
   ]
  }
 ],
 "metadata": {
  "kernelspec": {
   "display_name": "dl",
   "language": "python",
   "name": "python3"
  },
  "language_info": {
   "codemirror_mode": {
    "name": "ipython",
    "version": 3
   },
   "file_extension": ".py",
   "mimetype": "text/x-python",
   "name": "python",
   "nbconvert_exporter": "python",
   "pygments_lexer": "ipython3",
   "version": "3.10.16"
  }
 },
 "nbformat": 4,
 "nbformat_minor": 5
}
